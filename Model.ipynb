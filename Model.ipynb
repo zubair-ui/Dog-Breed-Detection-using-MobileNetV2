{
 "cells": [
  {
   "cell_type": "markdown",
   "id": "def7f271-5ce6-4dee-9f3a-832d39a1c95c",
   "metadata": {},
   "source": [
    "# Dog Breed Detection using CNN"
   ]
  },
  {
   "cell_type": "code",
   "execution_count": null,
   "id": "afc0890e-0bc3-4e20-919c-e809bd6d64e7",
   "metadata": {},
   "outputs": [],
   "source": []
  }
 ],
 "metadata": {
  "kernelspec": {
   "display_name": "Python 3 (ipykernel)",
   "language": "python",
   "name": "python3"
  },
  "language_info": {
   "codemirror_mode": {
    "name": "ipython",
    "version": 3
   },
   "file_extension": ".py",
   "mimetype": "text/x-python",
   "name": "python",
   "nbconvert_exporter": "python",
   "pygments_lexer": "ipython3",
   "version": "3.12.3"
  }
 },
 "nbformat": 4,
 "nbformat_minor": 5
}
